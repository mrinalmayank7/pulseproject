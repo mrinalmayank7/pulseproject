{
 "cells": [
  {
   "cell_type": "code",
   "execution_count": 1,
   "id": "d81f22ad",
   "metadata": {},
   "outputs": [],
   "source": [
    "import numpy as np\n",
    "import keras\n",
    "import tensorflow as tf"
   ]
  },
  {
   "cell_type": "code",
   "execution_count": 7,
   "id": "59c5723e",
   "metadata": {},
   "outputs": [],
   "source": [
    "mentalhealthmodel = keras.models.load_model('mentalhealthmodel')"
   ]
  },
  {
   "cell_type": "code",
   "execution_count": 8,
   "id": "675705e0",
   "metadata": {},
   "outputs": [],
   "source": [
    "def postprocessor(preds):\n",
    "  range = 43.391766-(-17.053513)\n",
    "  norm_preds = []\n",
    "  probab = []\n",
    "  for i in preds:\n",
    "    norm_preds.append((i - (-17.053513)) / range)\n",
    "    probab.append((i - (-17.053513)) * 100 / range)\n",
    "  return np.mean(probab)"
   ]
  },
  {
   "cell_type": "code",
   "execution_count": 10,
   "id": "429cd990",
   "metadata": {},
   "outputs": [
    {
     "name": "stdout",
     "output_type": "stream",
     "text": [
      "please say anything :My name is nivedita Singhi, I had a breakup with my boyfriend, I am very stressed and lonely from almost 6 months, being suffering from such bad situation, i deicded to move on with vansh\n",
      "Your mental health score is: 6.8781576\n"
     ]
    }
   ],
   "source": [
    "answers = []\n",
    "answers.append(input('please say anything :'))\n",
    "results = mentalhealthmodel.predict(answers)\n",
    "print('Your mental health score is:', postprocessor(results))"
   ]
  },
  {
   "cell_type": "code",
   "execution_count": null,
   "id": "0bcf38be",
   "metadata": {},
   "outputs": [],
   "source": []
  }
 ],
 "metadata": {
  "kernelspec": {
   "display_name": "Python 3",
   "language": "python",
   "name": "python3"
  },
  "language_info": {
   "codemirror_mode": {
    "name": "ipython",
    "version": 3
   },
   "file_extension": ".py",
   "mimetype": "text/x-python",
   "name": "python",
   "nbconvert_exporter": "python",
   "pygments_lexer": "ipython3",
   "version": "3.9.1"
  }
 },
 "nbformat": 4,
 "nbformat_minor": 5
}
